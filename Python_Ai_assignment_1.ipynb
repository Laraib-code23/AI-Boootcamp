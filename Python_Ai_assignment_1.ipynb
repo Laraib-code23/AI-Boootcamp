{
  "nbformat": 4,
  "nbformat_minor": 0,
  "metadata": {
    "colab": {
      "provenance": []
    },
    "kernelspec": {
      "name": "python3",
      "display_name": "Python 3"
    },
    "language_info": {
      "name": "python"
    }
  },
  "cells": [
    {
      "cell_type": "code",
      "execution_count": 1,
      "metadata": {
        "colab": {
          "base_uri": "https://localhost:8080/"
        },
        "id": "vtOLFHEfC_f0",
        "outputId": "2df3b42e-48ad-44b9-ce34-4b182c3b881a"
      },
      "outputs": [
        {
          "output_type": "stream",
          "name": "stdout",
          "text": [
            "Enter the number:4\n",
            "*\n",
            "**\n",
            "***\n"
          ]
        }
      ],
      "source": [
        "#Q1: Write a program to print the following pattern\n",
        "num= int(input(\"Enter the number:\"))\n",
        "for num in range(1, num):\n",
        "  print(\"*\" * num)"
      ]
    },
    {
      "cell_type": "code",
      "source": [
        "#Q2:Write a program that prints the multiplication table of a given number.\n",
        "#Take input from user.\n",
        "# if number is not positive, ask the user to enter apositive number again n again untill a positive number entered.\n",
        "num = int(input(\"Enter a number:\"))\n",
        "while num<=0:\n",
        "  num = int(input(\"Please enter a positive number:\"))\n",
        "for i in range(1,11):\n",
        "  print(f\"{num} x {1} = {num*i}\")"
      ],
      "metadata": {
        "colab": {
          "base_uri": "https://localhost:8080/"
        },
        "id": "vPQQFMCKH5hF",
        "outputId": "560b4c54-8b29-4af6-fe89-056b66d75918"
      },
      "execution_count": 2,
      "outputs": [
        {
          "output_type": "stream",
          "name": "stdout",
          "text": [
            "Enter a number:6\n",
            "6 x 1 = 6\n",
            "6 x 1 = 12\n",
            "6 x 1 = 18\n",
            "6 x 1 = 24\n",
            "6 x 1 = 30\n",
            "6 x 1 = 36\n",
            "6 x 1 = 42\n",
            "6 x 1 = 48\n",
            "6 x 1 = 54\n",
            "6 x 1 = 60\n"
          ]
        }
      ]
    },
    {
      "cell_type": "code",
      "source": [
        "#Q3: Fibonacci Sequence\n",
        "n = int(input(\"Enter the number:\"))\n",
        "a , b = 0, 1\n",
        "count = 1\n",
        "\n",
        "if n<=0:\n",
        "  print(\"Enter a positive number\")\n",
        "elif n==1:\n",
        "  print(\"Fibonacci sequence upto\", n, \":\")\n",
        "  print(a)\n",
        "else:\n",
        "  print(\"Fibonacci sequence upto\", n, \":\")\n",
        "  while count < n:\n",
        "    print(a, end= \" \")\n",
        "    c = a + b\n",
        "    a = b\n",
        "    b = c\n",
        "    count += 1"
      ],
      "metadata": {
        "colab": {
          "base_uri": "https://localhost:8080/"
        },
        "id": "0EDqznyKJeVr",
        "outputId": "65fbf1db-4ff7-4418-8640-03ba88844c40"
      },
      "execution_count": 3,
      "outputs": [
        {
          "output_type": "stream",
          "name": "stdout",
          "text": [
            "Enter the number:5\n",
            "Fibonacci sequence upto 5 :\n",
            "0 1 1 2 "
          ]
        }
      ]
    },
    {
      "cell_type": "code",
      "source": [
        "#Q4: Write a python program that uses a dictionary to store some data then print\n",
        "data = {'Name': 'ALI', \"Age\" :'23', 'Gender' : 'Male', 'City' : 'Karachi'}\n",
        "for key, value in data.items():\n",
        "  print(f\"{key}:{value}\")\n",
        "#Check all keys\n",
        "keys = list(data.keys())\n",
        "print('keys',keys)\n",
        "#Chw=eck all values\n",
        "values = list(data.values())\n",
        "print('values',values)"
      ],
      "metadata": {
        "colab": {
          "base_uri": "https://localhost:8080/"
        },
        "id": "rMCmPkf0LT8c",
        "outputId": "e4ee7cb8-b63d-40fc-a9a3-2e80b11cc878"
      },
      "execution_count": 4,
      "outputs": [
        {
          "output_type": "stream",
          "name": "stdout",
          "text": [
            "Name:ALI\n",
            "Age:23\n",
            "Gender:Male\n",
            "City:Karachi\n",
            "keys ['Name', 'Age', 'Gender', 'City']\n",
            "values ['ALI', '23', 'Male', 'Karachi']\n"
          ]
        }
      ]
    },
    {
      "cell_type": "code",
      "source": [
        "#Q5:write a program that takes a list of numbers as input from the user and count\n",
        "# how many numbers are even and how many odds?\n",
        "num = [int(x) for x in input(\"Enter a list of numbers:\").split()]\n",
        "even_count = 0\n",
        "odd_count = 0\n",
        "for i in num:\n",
        "  if i % 2 == 0:\n",
        "    even_count += 1\n",
        "  else:\n",
        "    odd_count += 1\n",
        "print(\"Number of even numbers:\", even_count)\n",
        "print(\" Number of odd numbers:\", odd_count)"
      ],
      "metadata": {
        "colab": {
          "base_uri": "https://localhost:8080/"
        },
        "id": "2Uk2dahKMnTp",
        "outputId": "fda5ecdc-1d97-4f81-ea5d-a5ed0957dfac"
      },
      "execution_count": 5,
      "outputs": [
        {
          "output_type": "stream",
          "name": "stdout",
          "text": [
            "Enter a list of numbers:2 5 6 8 99 00 \n",
            "Number of even numbers: 4\n",
            " Number of odd numbers: 2\n"
          ]
        }
      ]
    },
    {
      "cell_type": "code",
      "source": [
        "#Q6: Wrirte a program to find factorial of a number using a loop\n",
        "#if num negative display inapropriate message\n",
        "num = int(input(\"Enter a number:\"))\n",
        "if num<0:\n",
        "  print(\"Sorry, factorial does not exist for negative numbers\")\n",
        "elif num == 0:\n",
        "  print(\"The factorial of 0 is 1\")\n",
        "else:\n",
        "  factorial = 1\n",
        "  for i in range(1, num+1):\n",
        "    factorial *= i\n",
        "  print(\"The factorial of\", num, \"is\", factorial)"
      ],
      "metadata": {
        "colab": {
          "base_uri": "https://localhost:8080/"
        },
        "id": "5VANovWHOVrp",
        "outputId": "8464e33b-7cf0-437e-b0b9-9a0c91bba416"
      },
      "execution_count": 6,
      "outputs": [
        {
          "output_type": "stream",
          "name": "stdout",
          "text": [
            "Enter a number:5\n",
            "The factorial of 5 is 120\n"
          ]
        }
      ]
    },
    {
      "cell_type": "code",
      "source": [
        "#Q7:Write a program that takes list from user and finf min and maximum\n",
        "num = [int(x) for x in input(\"Enter numbers seperated by space: \").split()]\n",
        "\n",
        "maximum = num[0]\n",
        "minimum = num[0]\n",
        "for num in num:\n",
        "  if num > maximum:\n",
        "    maximum = num\n",
        "  if num < minimum:\n",
        "    minimum = num\n",
        "\n",
        "print(\"Maximum number is:\", maximum)\n",
        "print(\"Minimum number is:\", minimum)"
      ],
      "metadata": {
        "colab": {
          "base_uri": "https://localhost:8080/"
        },
        "id": "8z9rm6owPQrs",
        "outputId": "949772df-d225-4778-fd7d-d8499896d995"
      },
      "execution_count": 7,
      "outputs": [
        {
          "output_type": "stream",
          "name": "stdout",
          "text": [
            "Enter numbers seperated by space: 22 44 11 6 8 9 0 7 6 33\n",
            "Maximum number is: 44\n",
            "Minimum number is: 0\n"
          ]
        }
      ]
    },
    {
      "cell_type": "code",
      "source": [
        "import requests\n",
        "from bs4 import BeautifulSoup"
      ],
      "metadata": {
        "id": "HwbaPFJ9EVtP"
      },
      "execution_count": 8,
      "outputs": []
    },
    {
      "cell_type": "code",
      "source": [
        "#Q8: write a program to fetch the HTML webpage\n",
        "url=\"https://quotes.toscrape.com/\"\n",
        "response = requests.get(url)\n",
        "# here we parse the html content\n",
        "soup = BeautifulSoup(response.content, 'lxml')\n",
        "# find all the quotes containers\n",
        "quotes = soup.find_all(\"div\", class_ = \"quote\")\n",
        "#loop\n",
        "for quote in quotes:\n",
        "  text = quote.find(\"span\", class_ = \"text\").text\n",
        "  author = quote.find(\"small\", class_ = \"author\").text\n",
        "  print(f\"{text} - {author}\")"
      ],
      "metadata": {
        "colab": {
          "base_uri": "https://localhost:8080/"
        },
        "id": "cbwZVLn-EaP2",
        "outputId": "a31d93f5-dca7-4a6f-9202-8b5ff4a51f35"
      },
      "execution_count": 9,
      "outputs": [
        {
          "output_type": "stream",
          "name": "stdout",
          "text": [
            "“The world as we have created it is a process of our thinking. It cannot be changed without changing our thinking.” - Albert Einstein\n",
            "“It is our choices, Harry, that show what we truly are, far more than our abilities.” - J.K. Rowling\n",
            "“There are only two ways to live your life. One is as though nothing is a miracle. The other is as though everything is a miracle.” - Albert Einstein\n",
            "“The person, be it gentleman or lady, who has not pleasure in a good novel, must be intolerably stupid.” - Jane Austen\n",
            "“Imperfection is beauty, madness is genius and it's better to be absolutely ridiculous than absolutely boring.” - Marilyn Monroe\n",
            "“Try not to become a man of success. Rather become a man of value.” - Albert Einstein\n",
            "“It is better to be hated for what you are than to be loved for what you are not.” - André Gide\n",
            "“I have not failed. I've just found 10,000 ways that won't work.” - Thomas A. Edison\n",
            "“A woman is like a tea bag; you never know how strong it is until it's in hot water.” - Eleanor Roosevelt\n",
            "“A day without sunshine is like, you know, night.” - Steve Martin\n"
          ]
        }
      ]
    },
    {
      "cell_type": "code",
      "source": [
        "url = \"https://news.ycombinator.com\"\n",
        "response = requests.get(url)\n",
        "soup = BeautifulSoup(response.text, \"html.parser\")\n",
        "articles = soup.find_all(\"a\", class_=\"storylink\") or soup.find_all(\"span\", class_=\"titleline\")\n",
        "\n",
        "data = []\n",
        "\n",
        "for article in articles:\n",
        "    title = article.text.strip()\n",
        "    link = article.get(\"href\")\n",
        "    data.append([title, link])\n",
        "\n",
        "with open(\"assignment.csv\", \"w\", newline=\"\", encoding=\"utf-8\") as file:\n",
        "    writer = csv.writer(file)\n",
        "    writer.writerow([\"Title\", \"Link\"])\n",
        "    writer.writerows(data)\n",
        "\n",
        "print(\"Csv file created\")\n"
      ],
      "metadata": {
        "colab": {
          "base_uri": "https://localhost:8080/"
        },
        "id": "9FDKanohyZ_5",
        "outputId": "88a94eb2-6541-4c35-fd2b-1d6d761f890a"
      },
      "execution_count": 20,
      "outputs": [
        {
          "output_type": "stream",
          "name": "stdout",
          "text": [
            "Csv file created\n"
          ]
        }
      ]
    }
  ]
}